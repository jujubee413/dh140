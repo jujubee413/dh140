{
 "cells": [
  {
   "cell_type": "markdown",
   "metadata": {},
   "source": [
    "# *__HW Wk 2: Data Exploration with Amazons Bestsellers List__*\n",
    "*__By Juliette oliver__*"
   ]
  },
  {
   "cell_type": "markdown",
   "metadata": {},
   "source": [
    "Using Jupyterhub and data collected from the website [Kaggle](https://www.kaggle.com/sootersaalu/amazon-top-50-bestselling-books-2009-2019), we will be exploring Amazons Bestsellers book list using code. Firstly, we will use code to understand how large our dataset is and the accompanying variables we will be analyzing. We will then inquire about what types of data there are for every variable, and then we will conduct a query to filter our data by the authors in this dataset and by the most common amount of reviews for these bestselling books. Follow along with the markdown code between lines of python code to understand the process I went through in analyzing this data.\n"
   ]
  },
  {
   "cell_type": "markdown",
   "metadata": {},
   "source": [
    "Firstly, I am importing a couple of packages that will allow me to upload my data in csv. format and do various data functions that will help me visualize my work."
   ]
  },
  {
   "cell_type": "code",
   "execution_count": 83,
   "metadata": {},
   "outputs": [],
   "source": [
    "import pandas as pd"
   ]
  },
  {
   "cell_type": "code",
   "execution_count": 84,
   "metadata": {},
   "outputs": [],
   "source": [
    "import numpy as np"
   ]
  },
  {
   "cell_type": "markdown",
   "metadata": {},
   "source": [
    "Now I am importing my data in csv. format which was recieved from [Kaggle](https://www.kaggle.com/sootersaalu/amazon-top-50-bestselling-books-2009-2019)\n",
    "by having pd.read in front, it means that our package 'pandas' will be reading the file."
   ]
  },
  {
   "cell_type": "code",
   "execution_count": 85,
   "metadata": {},
   "outputs": [],
   "source": [
    "data = pd.read_csv(\"BestsellersDH.csv\")"
   ]
  },
  {
   "cell_type": "markdown",
   "metadata": {},
   "source": [
    "Next, I will use the following \"data.shape\" in order to get a better idea about the structure of my data and to see how many columns and rows are present in my dataset."
   ]
  },
  {
   "cell_type": "code",
   "execution_count": 86,
   "metadata": {},
   "outputs": [
    {
     "data": {
      "text/plain": [
       "(550, 7)"
      ]
     },
     "execution_count": 86,
     "metadata": {},
     "output_type": "execute_result"
    }
   ],
   "source": [
    "data.shape"
   ]
  },
  {
   "cell_type": "markdown",
   "metadata": {},
   "source": [
    "Now that we know there are 550 rows and 7 columns, I will use \"data.info\" to give me a rough outline of the csv. file and give further insight into the data I am working with."
   ]
  },
  {
   "cell_type": "code",
   "execution_count": 87,
   "metadata": {},
   "outputs": [
    {
     "data": {
      "text/plain": [
       "<bound method DataFrame.info of                                                   Name  \\\n",
       "0                        10-Day Green Smoothie Cleanse   \n",
       "1                                    11/22/63: A Novel   \n",
       "2              12 Rules for Life: An Antidote to Chaos   \n",
       "3                               1984 (Signet Classics)   \n",
       "4    5,000 Awesome Facts (About Everything!) (Natio...   \n",
       "..                                                 ...   \n",
       "545       Wrecking Ball (Diary of a Wimpy Kid Book 14)   \n",
       "546  You Are a Badass: How to Stop Doubting Your Gr...   \n",
       "547  You Are a Badass: How to Stop Doubting Your Gr...   \n",
       "548  You Are a Badass: How to Stop Doubting Your Gr...   \n",
       "549  You Are a Badass: How to Stop Doubting Your Gr...   \n",
       "\n",
       "                       Author  User Rating  Reviews  Price  Year        Genre  \n",
       "0                    JJ Smith          4.7    17350      8  2016  Non Fiction  \n",
       "1                Stephen King          4.6     2052     22  2011      Fiction  \n",
       "2          Jordan B. Peterson          4.7    18979     15  2018  Non Fiction  \n",
       "3               George Orwell          4.7    21424      6  2017      Fiction  \n",
       "4    National Geographic Kids          4.8     7665     12  2019  Non Fiction  \n",
       "..                        ...          ...      ...    ...   ...          ...  \n",
       "545               Jeff Kinney          4.9     9413      8  2019      Fiction  \n",
       "546               Jen Sincero          4.7    14331      8  2016  Non Fiction  \n",
       "547               Jen Sincero          4.7    14331      8  2017  Non Fiction  \n",
       "548               Jen Sincero          4.7    14331      8  2018  Non Fiction  \n",
       "549               Jen Sincero          4.7    14331      8  2019  Non Fiction  \n",
       "\n",
       "[550 rows x 7 columns]>"
      ]
     },
     "execution_count": 87,
     "metadata": {},
     "output_type": "execute_result"
    }
   ],
   "source": [
    "data.info"
   ]
  },
  {
   "cell_type": "markdown",
   "metadata": {},
   "source": [
    "Great! Now that we have a rough outline of what our data looks like, lets take a look first at the top 10 entries in our dataset. By using \"data.head(10)\" I will be able to tell the code to show me just that."
   ]
  },
  {
   "cell_type": "code",
   "execution_count": 92,
   "metadata": {},
   "outputs": [
    {
     "data": {
      "text/html": [
       "<div>\n",
       "<style scoped>\n",
       "    .dataframe tbody tr th:only-of-type {\n",
       "        vertical-align: middle;\n",
       "    }\n",
       "\n",
       "    .dataframe tbody tr th {\n",
       "        vertical-align: top;\n",
       "    }\n",
       "\n",
       "    .dataframe thead th {\n",
       "        text-align: right;\n",
       "    }\n",
       "</style>\n",
       "<table border=\"1\" class=\"dataframe\">\n",
       "  <thead>\n",
       "    <tr style=\"text-align: right;\">\n",
       "      <th></th>\n",
       "      <th>Name</th>\n",
       "      <th>Author</th>\n",
       "      <th>User Rating</th>\n",
       "      <th>Reviews</th>\n",
       "      <th>Price</th>\n",
       "      <th>Year</th>\n",
       "      <th>Genre</th>\n",
       "    </tr>\n",
       "  </thead>\n",
       "  <tbody>\n",
       "    <tr>\n",
       "      <th>0</th>\n",
       "      <td>10-Day Green Smoothie Cleanse</td>\n",
       "      <td>JJ Smith</td>\n",
       "      <td>4.7</td>\n",
       "      <td>17350</td>\n",
       "      <td>8</td>\n",
       "      <td>2016</td>\n",
       "      <td>Non Fiction</td>\n",
       "    </tr>\n",
       "    <tr>\n",
       "      <th>1</th>\n",
       "      <td>11/22/63: A Novel</td>\n",
       "      <td>Stephen King</td>\n",
       "      <td>4.6</td>\n",
       "      <td>2052</td>\n",
       "      <td>22</td>\n",
       "      <td>2011</td>\n",
       "      <td>Fiction</td>\n",
       "    </tr>\n",
       "    <tr>\n",
       "      <th>2</th>\n",
       "      <td>12 Rules for Life: An Antidote to Chaos</td>\n",
       "      <td>Jordan B. Peterson</td>\n",
       "      <td>4.7</td>\n",
       "      <td>18979</td>\n",
       "      <td>15</td>\n",
       "      <td>2018</td>\n",
       "      <td>Non Fiction</td>\n",
       "    </tr>\n",
       "    <tr>\n",
       "      <th>3</th>\n",
       "      <td>1984 (Signet Classics)</td>\n",
       "      <td>George Orwell</td>\n",
       "      <td>4.7</td>\n",
       "      <td>21424</td>\n",
       "      <td>6</td>\n",
       "      <td>2017</td>\n",
       "      <td>Fiction</td>\n",
       "    </tr>\n",
       "    <tr>\n",
       "      <th>4</th>\n",
       "      <td>5,000 Awesome Facts (About Everything!) (Natio...</td>\n",
       "      <td>National Geographic Kids</td>\n",
       "      <td>4.8</td>\n",
       "      <td>7665</td>\n",
       "      <td>12</td>\n",
       "      <td>2019</td>\n",
       "      <td>Non Fiction</td>\n",
       "    </tr>\n",
       "    <tr>\n",
       "      <th>5</th>\n",
       "      <td>A Dance with Dragons (A Song of Ice and Fire)</td>\n",
       "      <td>George R. R. Martin</td>\n",
       "      <td>4.4</td>\n",
       "      <td>12643</td>\n",
       "      <td>11</td>\n",
       "      <td>2011</td>\n",
       "      <td>Fiction</td>\n",
       "    </tr>\n",
       "    <tr>\n",
       "      <th>6</th>\n",
       "      <td>A Game of Thrones / A Clash of Kings / A Storm...</td>\n",
       "      <td>George R. R. Martin</td>\n",
       "      <td>4.7</td>\n",
       "      <td>19735</td>\n",
       "      <td>30</td>\n",
       "      <td>2014</td>\n",
       "      <td>Fiction</td>\n",
       "    </tr>\n",
       "    <tr>\n",
       "      <th>7</th>\n",
       "      <td>A Gentleman in Moscow: A Novel</td>\n",
       "      <td>Amor Towles</td>\n",
       "      <td>4.7</td>\n",
       "      <td>19699</td>\n",
       "      <td>15</td>\n",
       "      <td>2017</td>\n",
       "      <td>Fiction</td>\n",
       "    </tr>\n",
       "    <tr>\n",
       "      <th>8</th>\n",
       "      <td>A Higher Loyalty: Truth, Lies, and Leadership</td>\n",
       "      <td>James Comey</td>\n",
       "      <td>4.7</td>\n",
       "      <td>5983</td>\n",
       "      <td>3</td>\n",
       "      <td>2018</td>\n",
       "      <td>Non Fiction</td>\n",
       "    </tr>\n",
       "    <tr>\n",
       "      <th>9</th>\n",
       "      <td>A Man Called Ove: A Novel</td>\n",
       "      <td>Fredrik Backman</td>\n",
       "      <td>4.6</td>\n",
       "      <td>23848</td>\n",
       "      <td>8</td>\n",
       "      <td>2016</td>\n",
       "      <td>Fiction</td>\n",
       "    </tr>\n",
       "  </tbody>\n",
       "</table>\n",
       "</div>"
      ],
      "text/plain": [
       "                                                Name  \\\n",
       "0                      10-Day Green Smoothie Cleanse   \n",
       "1                                  11/22/63: A Novel   \n",
       "2            12 Rules for Life: An Antidote to Chaos   \n",
       "3                             1984 (Signet Classics)   \n",
       "4  5,000 Awesome Facts (About Everything!) (Natio...   \n",
       "5      A Dance with Dragons (A Song of Ice and Fire)   \n",
       "6  A Game of Thrones / A Clash of Kings / A Storm...   \n",
       "7                     A Gentleman in Moscow: A Novel   \n",
       "8      A Higher Loyalty: Truth, Lies, and Leadership   \n",
       "9                          A Man Called Ove: A Novel   \n",
       "\n",
       "                     Author  User Rating  Reviews  Price  Year        Genre  \n",
       "0                  JJ Smith          4.7    17350      8  2016  Non Fiction  \n",
       "1              Stephen King          4.6     2052     22  2011      Fiction  \n",
       "2        Jordan B. Peterson          4.7    18979     15  2018  Non Fiction  \n",
       "3             George Orwell          4.7    21424      6  2017      Fiction  \n",
       "4  National Geographic Kids          4.8     7665     12  2019  Non Fiction  \n",
       "5       George R. R. Martin          4.4    12643     11  2011      Fiction  \n",
       "6       George R. R. Martin          4.7    19735     30  2014      Fiction  \n",
       "7               Amor Towles          4.7    19699     15  2017      Fiction  \n",
       "8               James Comey          4.7     5983      3  2018  Non Fiction  \n",
       "9           Fredrik Backman          4.6    23848      8  2016      Fiction  "
      ]
     },
     "execution_count": 92,
     "metadata": {},
     "output_type": "execute_result"
    }
   ],
   "source": [
    "data.head(10)"
   ]
  },
  {
   "cell_type": "markdown",
   "metadata": {},
   "source": [
    "After looking at our top 10 Amazon bestseller books, we can see that George R.R. Martin is on the list twice. This may be something we can investigate later to see how many more times of the bestsellers list he is. We can also see that the majority of books in the top 10 are either fiction or Non Fiction, and all have a 4.6 rating or higher. "
   ]
  },
  {
   "cell_type": "markdown",
   "metadata": {},
   "source": [
    "Similerly, just as we used data.head() to see the top 10 results in our dataset, we will now use data.sample() in order to see a random sample of rows from our dataset. This may reveal to us some sort of trend that we may want to investigate further"
   ]
  },
  {
   "cell_type": "code",
   "execution_count": 94,
   "metadata": {},
   "outputs": [
    {
     "data": {
      "text/html": [
       "<div>\n",
       "<style scoped>\n",
       "    .dataframe tbody tr th:only-of-type {\n",
       "        vertical-align: middle;\n",
       "    }\n",
       "\n",
       "    .dataframe tbody tr th {\n",
       "        vertical-align: top;\n",
       "    }\n",
       "\n",
       "    .dataframe thead th {\n",
       "        text-align: right;\n",
       "    }\n",
       "</style>\n",
       "<table border=\"1\" class=\"dataframe\">\n",
       "  <thead>\n",
       "    <tr style=\"text-align: right;\">\n",
       "      <th></th>\n",
       "      <th>Name</th>\n",
       "      <th>Author</th>\n",
       "      <th>User Rating</th>\n",
       "      <th>Reviews</th>\n",
       "      <th>Price</th>\n",
       "      <th>Year</th>\n",
       "      <th>Genre</th>\n",
       "    </tr>\n",
       "  </thead>\n",
       "  <tbody>\n",
       "    <tr>\n",
       "      <th>363</th>\n",
       "      <td>The Dukan Diet: 2 Steps to Lose the Weight, 2 ...</td>\n",
       "      <td>Pierre Dukan</td>\n",
       "      <td>4.1</td>\n",
       "      <td>2023</td>\n",
       "      <td>15</td>\n",
       "      <td>2011</td>\n",
       "      <td>Non Fiction</td>\n",
       "    </tr>\n",
       "    <tr>\n",
       "      <th>30</th>\n",
       "      <td>Barefoot Contessa Foolproof: Recipes You Can T...</td>\n",
       "      <td>Ina Garten</td>\n",
       "      <td>4.8</td>\n",
       "      <td>1296</td>\n",
       "      <td>24</td>\n",
       "      <td>2012</td>\n",
       "      <td>Non Fiction</td>\n",
       "    </tr>\n",
       "    <tr>\n",
       "      <th>103</th>\n",
       "      <td>Fear: Trump in the White House</td>\n",
       "      <td>Bob Woodward</td>\n",
       "      <td>4.4</td>\n",
       "      <td>6042</td>\n",
       "      <td>2</td>\n",
       "      <td>2018</td>\n",
       "      <td>Non Fiction</td>\n",
       "    </tr>\n",
       "    <tr>\n",
       "      <th>403</th>\n",
       "      <td>The Help</td>\n",
       "      <td>Kathryn Stockett</td>\n",
       "      <td>4.8</td>\n",
       "      <td>13871</td>\n",
       "      <td>6</td>\n",
       "      <td>2010</td>\n",
       "      <td>Fiction</td>\n",
       "    </tr>\n",
       "    <tr>\n",
       "      <th>476</th>\n",
       "      <td>The Very Hungry Caterpillar</td>\n",
       "      <td>Eric Carle</td>\n",
       "      <td>4.9</td>\n",
       "      <td>19546</td>\n",
       "      <td>5</td>\n",
       "      <td>2013</td>\n",
       "      <td>Fiction</td>\n",
       "    </tr>\n",
       "    <tr>\n",
       "      <th>314</th>\n",
       "      <td>Switch: How to Change Things When Change Is Hard</td>\n",
       "      <td>Chip Heath</td>\n",
       "      <td>4.6</td>\n",
       "      <td>1907</td>\n",
       "      <td>13</td>\n",
       "      <td>2010</td>\n",
       "      <td>Non Fiction</td>\n",
       "    </tr>\n",
       "    <tr>\n",
       "      <th>74</th>\n",
       "      <td>Difficult Riddles For Smart Kids: 300 Difficul...</td>\n",
       "      <td>M Prefontaine</td>\n",
       "      <td>4.6</td>\n",
       "      <td>7955</td>\n",
       "      <td>5</td>\n",
       "      <td>2019</td>\n",
       "      <td>Non Fiction</td>\n",
       "    </tr>\n",
       "    <tr>\n",
       "      <th>525</th>\n",
       "      <td>Water for Elephants: A Novel</td>\n",
       "      <td>Sara Gruen</td>\n",
       "      <td>4.5</td>\n",
       "      <td>8958</td>\n",
       "      <td>12</td>\n",
       "      <td>2011</td>\n",
       "      <td>Fiction</td>\n",
       "    </tr>\n",
       "    <tr>\n",
       "      <th>9</th>\n",
       "      <td>A Man Called Ove: A Novel</td>\n",
       "      <td>Fredrik Backman</td>\n",
       "      <td>4.6</td>\n",
       "      <td>23848</td>\n",
       "      <td>8</td>\n",
       "      <td>2016</td>\n",
       "      <td>Fiction</td>\n",
       "    </tr>\n",
       "    <tr>\n",
       "      <th>356</th>\n",
       "      <td>The Complete Ketogenic Diet for Beginners: You...</td>\n",
       "      <td>Amy Ramos</td>\n",
       "      <td>4.3</td>\n",
       "      <td>13061</td>\n",
       "      <td>6</td>\n",
       "      <td>2019</td>\n",
       "      <td>Non Fiction</td>\n",
       "    </tr>\n",
       "  </tbody>\n",
       "</table>\n",
       "</div>"
      ],
      "text/plain": [
       "                                                  Name            Author  \\\n",
       "363  The Dukan Diet: 2 Steps to Lose the Weight, 2 ...      Pierre Dukan   \n",
       "30   Barefoot Contessa Foolproof: Recipes You Can T...        Ina Garten   \n",
       "103                     Fear: Trump in the White House      Bob Woodward   \n",
       "403                                           The Help  Kathryn Stockett   \n",
       "476                        The Very Hungry Caterpillar        Eric Carle   \n",
       "314   Switch: How to Change Things When Change Is Hard        Chip Heath   \n",
       "74   Difficult Riddles For Smart Kids: 300 Difficul...     M Prefontaine   \n",
       "525                       Water for Elephants: A Novel        Sara Gruen   \n",
       "9                            A Man Called Ove: A Novel   Fredrik Backman   \n",
       "356  The Complete Ketogenic Diet for Beginners: You...         Amy Ramos   \n",
       "\n",
       "     User Rating  Reviews  Price  Year        Genre  \n",
       "363          4.1     2023     15  2011  Non Fiction  \n",
       "30           4.8     1296     24  2012  Non Fiction  \n",
       "103          4.4     6042      2  2018  Non Fiction  \n",
       "403          4.8    13871      6  2010      Fiction  \n",
       "476          4.9    19546      5  2013      Fiction  \n",
       "314          4.6     1907     13  2010  Non Fiction  \n",
       "74           4.6     7955      5  2019  Non Fiction  \n",
       "525          4.5     8958     12  2011      Fiction  \n",
       "9            4.6    23848      8  2016      Fiction  \n",
       "356          4.3    13061      6  2019  Non Fiction  "
      ]
     },
     "execution_count": 94,
     "metadata": {},
     "output_type": "execute_result"
    }
   ],
   "source": [
    "data.sample(10)"
   ]
  },
  {
   "cell_type": "markdown",
   "metadata": {},
   "source": [
    "Using the random sampler above, we can see that all books on the Bestsellers list have at least a 4.1 star rating and are either Fiction or Non Fiction. Interstingly enough, the price of books is quite varied with there being a high of $24 and a low of $2."
   ]
  },
  {
   "cell_type": "markdown",
   "metadata": {},
   "source": [
    "After seeing the outline above from the random sample and top 10, I have realized that I would like a clear line of what exaclty all my column variables are. I will use the \"data.columns.to_list()\" in order to list these columns."
   ]
  },
  {
   "cell_type": "code",
   "execution_count": 102,
   "metadata": {},
   "outputs": [
    {
     "data": {
      "text/plain": [
       "['Name', 'Author', 'User Rating', 'Reviews', 'Price', 'Year', 'Genre']"
      ]
     },
     "execution_count": 102,
     "metadata": {},
     "output_type": "execute_result"
    }
   ],
   "source": [
    "data.columns.to_list() "
   ]
  },
  {
   "cell_type": "markdown",
   "metadata": {},
   "source": [
    "Next, since I can now see the different column names and I was able to see a outline of my data above, I will input \"data.dtypes\" in order to see the type of data in each culumn  present in my dataset. This will allow me to start to visualize what visualizations I may be able to make to reveal patterns in the data."
   ]
  },
  {
   "cell_type": "code",
   "execution_count": 103,
   "metadata": {},
   "outputs": [
    {
     "data": {
      "text/plain": [
       "Name            object\n",
       "Author          object\n",
       "User Rating    float64\n",
       "Reviews          int64\n",
       "Price            int64\n",
       "Year             int64\n",
       "Genre           object\n",
       "dtype: object"
      ]
     },
     "execution_count": 103,
     "metadata": {},
     "output_type": "execute_result"
    }
   ],
   "source": [
    "data.dtypes"
   ]
  },
  {
   "cell_type": "markdown",
   "metadata": {},
   "source": [
    "Great! What we can see from here is that we have a majority of intergers and objects. We may be able to use a bar graph or pie chart to later visualize this data."
   ]
  },
  {
   "cell_type": "markdown",
   "metadata": {},
   "source": [
    "Now that we have seen a rought outline of the data and understand what variables exist, I want to explore the column \"Author\" to see what interesting trend arises. Since we saw George.R.R Martin twice within the first 10 lines, I believe it could be interesting to see what authors appear most in our data. Using the code below, we are able to see the total count or number of times a authors name appeares in the data.  "
   ]
  },
  {
   "cell_type": "code",
   "execution_count": 105,
   "metadata": {},
   "outputs": [
    {
     "data": {
      "text/plain": [
       "Jeff Kinney                           12\n",
       "Gary Chapman                          11\n",
       "Rick Riordan                          11\n",
       "Suzanne Collins                       11\n",
       "American Psychological Association    10\n",
       "                                      ..\n",
       "Golden Books                           1\n",
       "Paper Peony Press                      1\n",
       "James Comey                            1\n",
       "Geneen Roth                            1\n",
       "Patrick Thorpe                         1\n",
       "Name: Author, Length: 248, dtype: int64"
      ]
     },
     "execution_count": 105,
     "metadata": {},
     "output_type": "execute_result"
    }
   ],
   "source": [
    "data['Author'].value_counts()"
   ]
  },
  {
   "cell_type": "markdown",
   "metadata": {},
   "source": [
    "Thanks to our code, we are able to see that Jeff Kinney appears the most times on the Best Sellers list followed by Gary Chapman and Rick Riordan. At the bottom there are other authors who appear only 1 time, which is likely the majority of them. "
   ]
  },
  {
   "cell_type": "markdown",
   "metadata": {},
   "source": [
    "Now Lets rename our line of code to \"Author_Count\" so that we can procede to do a query and begin to make an index."
   ]
  },
  {
   "cell_type": "code",
   "execution_count": 96,
   "metadata": {
    "scrolled": true
   },
   "outputs": [
    {
     "data": {
      "text/plain": [
       "Jeff Kinney                           12\n",
       "Gary Chapman                          11\n",
       "Rick Riordan                          11\n",
       "Suzanne Collins                       11\n",
       "American Psychological Association    10\n",
       "                                      ..\n",
       "Golden Books                           1\n",
       "Paper Peony Press                      1\n",
       "James Comey                            1\n",
       "Geneen Roth                            1\n",
       "Patrick Thorpe                         1\n",
       "Name: Author, Length: 248, dtype: int64"
      ]
     },
     "execution_count": 96,
     "metadata": {},
     "output_type": "execute_result"
    }
   ],
   "source": [
    "Author_Count = data['Author'].value_counts()\n",
    "Author_Count"
   ]
  },
  {
   "cell_type": "markdown",
   "metadata": {},
   "source": [
    "Done! Now lets make \"Author_Count\" = to ,reset_index() in order to make a proper index of our findings."
   ]
  },
  {
   "cell_type": "code",
   "execution_count": 97,
   "metadata": {},
   "outputs": [
    {
     "data": {
      "text/html": [
       "<div>\n",
       "<style scoped>\n",
       "    .dataframe tbody tr th:only-of-type {\n",
       "        vertical-align: middle;\n",
       "    }\n",
       "\n",
       "    .dataframe tbody tr th {\n",
       "        vertical-align: top;\n",
       "    }\n",
       "\n",
       "    .dataframe thead th {\n",
       "        text-align: right;\n",
       "    }\n",
       "</style>\n",
       "<table border=\"1\" class=\"dataframe\">\n",
       "  <thead>\n",
       "    <tr style=\"text-align: right;\">\n",
       "      <th></th>\n",
       "      <th>index</th>\n",
       "      <th>Author</th>\n",
       "    </tr>\n",
       "  </thead>\n",
       "  <tbody>\n",
       "    <tr>\n",
       "      <th>0</th>\n",
       "      <td>Jeff Kinney</td>\n",
       "      <td>12</td>\n",
       "    </tr>\n",
       "    <tr>\n",
       "      <th>1</th>\n",
       "      <td>Gary Chapman</td>\n",
       "      <td>11</td>\n",
       "    </tr>\n",
       "    <tr>\n",
       "      <th>2</th>\n",
       "      <td>Rick Riordan</td>\n",
       "      <td>11</td>\n",
       "    </tr>\n",
       "    <tr>\n",
       "      <th>3</th>\n",
       "      <td>Suzanne Collins</td>\n",
       "      <td>11</td>\n",
       "    </tr>\n",
       "    <tr>\n",
       "      <th>4</th>\n",
       "      <td>American Psychological Association</td>\n",
       "      <td>10</td>\n",
       "    </tr>\n",
       "    <tr>\n",
       "      <th>...</th>\n",
       "      <td>...</td>\n",
       "      <td>...</td>\n",
       "    </tr>\n",
       "    <tr>\n",
       "      <th>243</th>\n",
       "      <td>Golden Books</td>\n",
       "      <td>1</td>\n",
       "    </tr>\n",
       "    <tr>\n",
       "      <th>244</th>\n",
       "      <td>Paper Peony Press</td>\n",
       "      <td>1</td>\n",
       "    </tr>\n",
       "    <tr>\n",
       "      <th>245</th>\n",
       "      <td>James Comey</td>\n",
       "      <td>1</td>\n",
       "    </tr>\n",
       "    <tr>\n",
       "      <th>246</th>\n",
       "      <td>Geneen Roth</td>\n",
       "      <td>1</td>\n",
       "    </tr>\n",
       "    <tr>\n",
       "      <th>247</th>\n",
       "      <td>Patrick Thorpe</td>\n",
       "      <td>1</td>\n",
       "    </tr>\n",
       "  </tbody>\n",
       "</table>\n",
       "<p>248 rows × 2 columns</p>\n",
       "</div>"
      ],
      "text/plain": [
       "                                  index  Author\n",
       "0                           Jeff Kinney      12\n",
       "1                          Gary Chapman      11\n",
       "2                          Rick Riordan      11\n",
       "3                       Suzanne Collins      11\n",
       "4    American Psychological Association      10\n",
       "..                                  ...     ...\n",
       "243                        Golden Books       1\n",
       "244                   Paper Peony Press       1\n",
       "245                         James Comey       1\n",
       "246                         Geneen Roth       1\n",
       "247                      Patrick Thorpe       1\n",
       "\n",
       "[248 rows x 2 columns]"
      ]
     },
     "execution_count": 97,
     "metadata": {},
     "output_type": "execute_result"
    }
   ],
   "source": [
    "Author_Count = Author_Count.reset_index()\n",
    "Author_Count"
   ]
  },
  {
   "cell_type": "markdown",
   "metadata": {},
   "source": [
    "Yay! Ok so now that's done, I see that where the column could be named \"author\" it is called \"Index\", so lets change that by bringing up the list of names for the index and then changing the column names to more appropriate titles."
   ]
  },
  {
   "cell_type": "code",
   "execution_count": 52,
   "metadata": {},
   "outputs": [
    {
     "data": {
      "text/plain": [
       "['index', 'Author']"
      ]
     },
     "execution_count": 52,
     "metadata": {},
     "output_type": "execute_result"
    }
   ],
   "source": [
    "Author_Count.columns.to_list()"
   ]
  },
  {
   "cell_type": "code",
   "execution_count": 61,
   "metadata": {},
   "outputs": [],
   "source": [
    "Author_Count.columns = ['Author', 'Count']"
   ]
  },
  {
   "cell_type": "code",
   "execution_count": 62,
   "metadata": {},
   "outputs": [
    {
     "data": {
      "text/html": [
       "<div>\n",
       "<style scoped>\n",
       "    .dataframe tbody tr th:only-of-type {\n",
       "        vertical-align: middle;\n",
       "    }\n",
       "\n",
       "    .dataframe tbody tr th {\n",
       "        vertical-align: top;\n",
       "    }\n",
       "\n",
       "    .dataframe thead th {\n",
       "        text-align: right;\n",
       "    }\n",
       "</style>\n",
       "<table border=\"1\" class=\"dataframe\">\n",
       "  <thead>\n",
       "    <tr style=\"text-align: right;\">\n",
       "      <th></th>\n",
       "      <th>Author</th>\n",
       "      <th>Count</th>\n",
       "    </tr>\n",
       "  </thead>\n",
       "  <tbody>\n",
       "    <tr>\n",
       "      <th>0</th>\n",
       "      <td>Jeff Kinney</td>\n",
       "      <td>12</td>\n",
       "    </tr>\n",
       "    <tr>\n",
       "      <th>1</th>\n",
       "      <td>Gary Chapman</td>\n",
       "      <td>11</td>\n",
       "    </tr>\n",
       "    <tr>\n",
       "      <th>2</th>\n",
       "      <td>Rick Riordan</td>\n",
       "      <td>11</td>\n",
       "    </tr>\n",
       "    <tr>\n",
       "      <th>3</th>\n",
       "      <td>Suzanne Collins</td>\n",
       "      <td>11</td>\n",
       "    </tr>\n",
       "    <tr>\n",
       "      <th>4</th>\n",
       "      <td>American Psychological Association</td>\n",
       "      <td>10</td>\n",
       "    </tr>\n",
       "    <tr>\n",
       "      <th>...</th>\n",
       "      <td>...</td>\n",
       "      <td>...</td>\n",
       "    </tr>\n",
       "    <tr>\n",
       "      <th>243</th>\n",
       "      <td>Golden Books</td>\n",
       "      <td>1</td>\n",
       "    </tr>\n",
       "    <tr>\n",
       "      <th>244</th>\n",
       "      <td>Paper Peony Press</td>\n",
       "      <td>1</td>\n",
       "    </tr>\n",
       "    <tr>\n",
       "      <th>245</th>\n",
       "      <td>James Comey</td>\n",
       "      <td>1</td>\n",
       "    </tr>\n",
       "    <tr>\n",
       "      <th>246</th>\n",
       "      <td>Geneen Roth</td>\n",
       "      <td>1</td>\n",
       "    </tr>\n",
       "    <tr>\n",
       "      <th>247</th>\n",
       "      <td>Patrick Thorpe</td>\n",
       "      <td>1</td>\n",
       "    </tr>\n",
       "  </tbody>\n",
       "</table>\n",
       "<p>248 rows × 2 columns</p>\n",
       "</div>"
      ],
      "text/plain": [
       "                                 Author  Count\n",
       "0                           Jeff Kinney     12\n",
       "1                          Gary Chapman     11\n",
       "2                          Rick Riordan     11\n",
       "3                       Suzanne Collins     11\n",
       "4    American Psychological Association     10\n",
       "..                                  ...    ...\n",
       "243                        Golden Books      1\n",
       "244                   Paper Peony Press      1\n",
       "245                         James Comey      1\n",
       "246                         Geneen Roth      1\n",
       "247                      Patrick Thorpe      1\n",
       "\n",
       "[248 rows x 2 columns]"
      ]
     },
     "execution_count": 62,
     "metadata": {},
     "output_type": "execute_result"
    }
   ],
   "source": [
    "Author_Count"
   ]
  },
  {
   "cell_type": "markdown",
   "metadata": {},
   "source": [
    "As we can see, we have now succesfully changed the column names to more fitting titles. This is starting to look a more polished graph that could be readable by others, but let's take it a step further."
   ]
  },
  {
   "cell_type": "markdown",
   "metadata": {},
   "source": [
    "Let's plot our findings on a map and see what appears. Using the following code (.plot.bar()) we will be able to turn our data into a bar chart."
   ]
  },
  {
   "cell_type": "code",
   "execution_count": 63,
   "metadata": {},
   "outputs": [
    {
     "data": {
      "text/plain": [
       "<matplotlib.axes._subplots.AxesSubplot at 0x7ff1d2b364f0>"
      ]
     },
     "execution_count": 63,
     "metadata": {},
     "output_type": "execute_result"
    },
    {
     "data": {
      "image/png": "[encoded data removed]",
      "text/plain": [
       "<Figure size 432x288 with 1 Axes>"
      ]
     },
     "metadata": {
      "needs_background": "light"
     },
     "output_type": "display_data"
    }
   ],
   "source": [
    "Author_Count.plot.bar()"
   ]
  },
  {
   "cell_type": "markdown",
   "metadata": {},
   "source": [
    "As is clearly shown above, the data is messy and hard to underdstand, so we will attempt to clean this up. But upon first glance, we can see that one author appears 12 times, while the majority of authors appear only about 1-2 times."
   ]
  },
  {
   "cell_type": "markdown",
   "metadata": {},
   "source": [
    "Because our data has over 550 authors, lets narrow this down and filter it to be only the top 20 authors who appear most commonly in our dataset in order to make the graph more readable. We will do this by making a new name \"top20\" and making it equal to our value count."
   ]
  },
  {
   "cell_type": "code",
   "execution_count": 109,
   "metadata": {},
   "outputs": [],
   "source": [
    "top20 = data[\"Author\"].value_counts()"
   ]
  },
  {
   "cell_type": "markdown",
   "metadata": {},
   "source": [
    "Next, once we have renamed \"top20\", we will want to make sure \"ascending\" is false in order to ensure our graph will start in descending order and correctly show us the top 20."
   ]
  },
  {
   "cell_type": "code",
   "execution_count": 110,
   "metadata": {},
   "outputs": [
    {
     "data": {
      "text/plain": [
       "Jeff Kinney                           12\n",
       "Gary Chapman                          11\n",
       "Rick Riordan                          11\n",
       "Suzanne Collins                       11\n",
       "American Psychological Association    10\n",
       "                                      ..\n",
       "Peter A. Lillback                      1\n",
       "David Perlmutter MD                    1\n",
       "Julia Child                            1\n",
       "Kevin Kwan                             1\n",
       "Paul Kalanithi                         1\n",
       "Name: Author, Length: 248, dtype: int64"
      ]
     },
     "execution_count": 110,
     "metadata": {},
     "output_type": "execute_result"
    }
   ],
   "source": [
    "top20.sort_values(ascending=False)\n"
   ]
  },
  {
   "cell_type": "markdown",
   "metadata": {},
   "source": [
    "Now that we have that in place, we will want to redifine that the 'top20' to actually show us the top 20 authors who appear most frequently in our data. By putting [:20 ] this will allow us to do so."
   ]
  },
  {
   "cell_type": "code",
   "execution_count": 111,
   "metadata": {},
   "outputs": [],
   "source": [
    "top20 = top20[:20]\n"
   ]
  },
  {
   "cell_type": "markdown",
   "metadata": {},
   "source": [
    "Finally, since we have made sure that the values are only restricted to the top 20 and in descending order, we can plot our results to get a more specific respone."
   ]
  },
  {
   "cell_type": "markdown",
   "metadata": {},
   "source": [
    "Using .plot will allow us to plot our newely defined data and \"kind=bar\" will tell our code to plot it into a bar graph."
   ]
  },
  {
   "cell_type": "code",
   "execution_count": 112,
   "metadata": {},
   "outputs": [
    {
     "data": {
      "text/plain": [
       "<matplotlib.axes._subplots.AxesSubplot at 0x7ff1d215f520>"
      ]
     },
     "execution_count": 112,
     "metadata": {},
     "output_type": "execute_result"
    },
    {
     "data": {
      "image/png": "[encoded data removed]",
      "text/plain": [
       "<Figure size 432x288 with 1 Axes>"
      ]
     },
     "metadata": {
      "needs_background": "light"
     },
     "output_type": "display_data"
    }
   ],
   "source": [
    "top20.plot(kind=\"bar\")"
   ]
  },
  {
   "cell_type": "markdown",
   "metadata": {},
   "source": [
    "Woopie! Now we have a graph that shows us which authors appear most in our data. From the looks of our graph, that would be Jeff Kinney and Gary Chapman, with the highest amount of times appearing on the list being 12. "
   ]
  },
  {
   "cell_type": "markdown",
   "metadata": {},
   "source": [
    "Next, we will do the same query but this time I want to see the most common amount of reviews for books on the list. To do this, we will redefine \"reviews\" in its value count as \"Top Reviews\"."
   ]
  },
  {
   "cell_type": "code",
   "execution_count": 137,
   "metadata": {},
   "outputs": [
    {
     "data": {
      "text/plain": [
       "8580     10\n",
       "5069      9\n",
       "21834     8\n",
       "19546     7\n",
       "19576     6\n",
       "         ..\n",
       "3428      1\n",
       "14982     1\n",
       "9867      1\n",
       "13964     1\n",
       "2052      1\n",
       "Name: Reviews, Length: 346, dtype: int64"
      ]
     },
     "execution_count": 137,
     "metadata": {},
     "output_type": "execute_result"
    }
   ],
   "source": [
    "Top_Reviews = data['Reviews'].value_counts()\n",
    "Top_Reviews"
   ]
  },
  {
   "cell_type": "markdown",
   "metadata": {},
   "source": [
    "Now that we have redefined \"Top Reviews\", we can go about filtering it to show only the most common number of reviews for a book in descending in order. To do this, we will use a Boolean value of \"ascending = false\" in order to make sure our data will descend once plotted."
   ]
  },
  {
   "cell_type": "code",
   "execution_count": 138,
   "metadata": {},
   "outputs": [
    {
     "data": {
      "text/plain": [
       "8580     10\n",
       "5069      9\n",
       "21834     8\n",
       "19546     7\n",
       "19576     6\n",
       "         ..\n",
       "5396      1\n",
       "798       1\n",
       "3871      1\n",
       "4896      1\n",
       "1302      1\n",
       "Name: Reviews, Length: 346, dtype: int64"
      ]
     },
     "execution_count": 138,
     "metadata": {},
     "output_type": "execute_result"
    }
   ],
   "source": [
    "Top_Reviews.sort_values(ascending=False)"
   ]
  },
  {
   "cell_type": "markdown",
   "metadata": {},
   "source": [
    "We can see here that the data is indeed descending. Now that we have that, we want to limit and filter our data to show us only the top 10 most common review amounts in the data. By setting our \"Top_Reviews\" to [:10], this filters out all other values outside of the top 10."
   ]
  },
  {
   "cell_type": "code",
   "execution_count": 141,
   "metadata": {},
   "outputs": [
    {
     "data": {
      "text/plain": [
       "8580     10\n",
       "5069      9\n",
       "21834     8\n",
       "19546     7\n",
       "19576     6\n",
       "23308     6\n",
       "14038     5\n",
       "17323     5\n",
       "3477      5\n",
       "25554     5\n",
       "Name: Reviews, dtype: int64"
      ]
     },
     "execution_count": 141,
     "metadata": {},
     "output_type": "execute_result"
    }
   ],
   "source": [
    "Top_Reviews= Top_Reviews[:10]\n",
    "Top_Reviews"
   ]
  },
  {
   "cell_type": "markdown",
   "metadata": {},
   "source": [
    "Now that our data is filtered, we can see that 8580 is the number of ratings that appears most often among books on the bestsellers list, with higher numbers like 25,554 and 17,323 appearing less often. To visualize this, we will use .plot and set the kind of graph to kind=bar. "
   ]
  },
  {
   "cell_type": "code",
   "execution_count": 142,
   "metadata": {},
   "outputs": [
    {
     "data": {
      "text/plain": [
       "<matplotlib.axes._subplots.AxesSubplot at 0x7ff1d1ae8610>"
      ]
     },
     "execution_count": 142,
     "metadata": {},
     "output_type": "execute_result"
    },
    {
     "data": {
      "image/png": "[encoded data removed]",
      "text/plain": [
       "<Figure size 432x288 with 1 Axes>"
      ]
     },
     "metadata": {
      "needs_background": "light"
     },
     "output_type": "display_data"
    }
   ],
   "source": [
    "Top_Reviews.plot(kind=\"bar\")"
   ]
  },
  {
   "cell_type": "markdown",
   "metadata": {},
   "source": [
    "Now we have succesfully plotted our graphs for both the most common review amounts and the authors who appear most often in our dataset! Thank you for following along and I hope you enjoyed seeing me work through the data!"
   ]
  }
 ],
 "metadata": {
  "kernelspec": {
   "display_name": "Python 3",
   "language": "python",
   "name": "python3"
  },
  "language_info": {
   "codemirror_mode": {
    "name": "ipython",
    "version": 3
   },
   "file_extension": ".py",
   "mimetype": "text/x-python",
   "name": "python",
   "nbconvert_exporter": "python",
   "pygments_lexer": "ipython3",
   "version": "3.8.5"
  },
  "toc": {
   "base_numbering": 1,
   "nav_menu": {},
   "number_sections": true,
   "sideBar": true,
   "skip_h1_title": false,
   "title_cell": "Table of Contents",
   "title_sidebar": "Contents",
   "toc_cell": false,
   "toc_position": {},
   "toc_section_display": true,
   "toc_window_display": false
  }
 },
 "nbformat": 4,
 "nbformat_minor": 4
}
