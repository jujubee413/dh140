{
 "cells": [
  {
   "cell_type": "markdown",
   "metadata": {},
   "source": [
    "# *__Reviewing and Continueing to Explore the Impact of the Olympics__*"
   ]
  },
  {
   "cell_type": "markdown",
   "metadata": {},
   "source": [
    "## By Juliette Oliver"
   ]
  },
  {
   "cell_type": "markdown",
   "metadata": {},
   "source": [
    "This week I took the time to mainly review the past coding concepts we have gone over but using a new dataset. This datset contains information about the introduction of Womens Events and the rise in female athletes at the Olympics. I will dive into this dataset in hopes to better understand how this rise in female events and athletes may have raised the total costs of the Olympics over time. "
   ]
  },
  {
   "cell_type": "markdown",
   "metadata": {},
   "source": [
    "Action: I will import the necessary packages such as pandas, geopandas, and matplotlib.\n"
   ]
  },
  {
   "cell_type": "code",
   "execution_count": 1,
   "metadata": {},
   "outputs": [],
   "source": [
    "import pandas as pd"
   ]
  },
  {
   "cell_type": "code",
   "execution_count": 2,
   "metadata": {},
   "outputs": [],
   "source": [
    "import geopandas as gpd"
   ]
  },
  {
   "cell_type": "code",
   "execution_count": 3,
   "metadata": {},
   "outputs": [],
   "source": [
    "import contextily as ctx\n",
    "\n"
   ]
  },
  {
   "cell_type": "code",
   "execution_count": 4,
   "metadata": {},
   "outputs": [],
   "source": [
    "import matplotlib.pyplot as plt"
   ]
  },
  {
   "cell_type": "code",
   "execution_count": 5,
   "metadata": {},
   "outputs": [],
   "source": [
    "import math"
   ]
  },
  {
   "cell_type": "markdown",
   "metadata": {},
   "source": [
    "Result: These packages will allow me to begin to analyze and visualize my data. Packages like Geopandas specifically will allow me to spatial visualize my data."
   ]
  },
  {
   "cell_type": "markdown",
   "metadata": {},
   "source": [
    "Action: Install Pycountry"
   ]
  },
  {
   "cell_type": "markdown",
   "metadata": {},
   "source": [
    "Result: Because my dataset does not contain the 3 letter alpha codes needed to spatially visualize the data, Pycountry will help me attach those codes to my data so that I may map and visualize it."
   ]
  },
  {
   "cell_type": "code",
   "execution_count": 6,
   "metadata": {},
   "outputs": [
    {
     "name": "stdout",
     "output_type": "stream",
     "text": [
      "Requirement already satisfied: pycountry in /opt/conda/lib/python3.8/site-packages (20.7.3)\n",
      "Note: you may need to restart the kernel to use updated packages.\n"
     ]
    }
   ],
   "source": [
    "pip install pycountry"
   ]
  },
  {
   "cell_type": "markdown",
   "metadata": {},
   "source": [
    "Action: I will now install matplotlib so that my visualizations will appear in Jupyterhub and I will now load my datasets into this notebook by having pandas read them with .pd"
   ]
  },
  {
   "cell_type": "code",
   "execution_count": 7,
   "metadata": {},
   "outputs": [],
   "source": [
    "import pycountry"
   ]
  },
  {
   "cell_type": "code",
   "execution_count": 8,
   "metadata": {},
   "outputs": [],
   "source": [
    "%matplotlib inline"
   ]
  },
  {
   "cell_type": "code",
   "execution_count": 9,
   "metadata": {},
   "outputs": [],
   "source": [
    "wp = pd.read_csv('womens_part.csv')\n",
    "df= pd.read_csv('Cost_event_athlete.csv')"
   ]
  },
  {
   "cell_type": "markdown",
   "metadata": {},
   "source": [
    "Action: I will now run general functions such as .shape and . head so that I can see the general outline of my data and to know which steps to take next."
   ]
  },
  {
   "cell_type": "code",
   "execution_count": 10,
   "metadata": {},
   "outputs": [
    {
     "data": {
      "text/plain": [
       "(27, 7)"
      ]
     },
     "execution_count": 10,
     "metadata": {},
     "output_type": "execute_result"
    }
   ],
   "source": [
    "wp.shape"
   ]
  },
  {
   "cell_type": "code",
   "execution_count": 11,
   "metadata": {},
   "outputs": [
    {
     "data": {
      "text/html": [
       "<div>\n",
       "<style scoped>\n",
       "    .dataframe tbody tr th:only-of-type {\n",
       "        vertical-align: middle;\n",
       "    }\n",
       "\n",
       "    .dataframe tbody tr th {\n",
       "        vertical-align: top;\n",
       "    }\n",
       "\n",
       "    .dataframe thead th {\n",
       "        text-align: right;\n",
       "    }\n",
       "</style>\n",
       "<table border=\"1\" class=\"dataframe\">\n",
       "  <thead>\n",
       "    <tr style=\"text-align: right;\">\n",
       "      <th></th>\n",
       "      <th>year</th>\n",
       "      <th>sports</th>\n",
       "      <th>womens_events</th>\n",
       "      <th>total_events</th>\n",
       "      <th>%_of_womens_events</th>\n",
       "      <th>women_participants</th>\n",
       "      <th>%_of_women_participants</th>\n",
       "    </tr>\n",
       "  </thead>\n",
       "  <tbody>\n",
       "    <tr>\n",
       "      <th>0</th>\n",
       "      <td>1900</td>\n",
       "      <td>2</td>\n",
       "      <td>2</td>\n",
       "      <td>95</td>\n",
       "      <td>2.1</td>\n",
       "      <td>22</td>\n",
       "      <td>2.2</td>\n",
       "    </tr>\n",
       "    <tr>\n",
       "      <th>1</th>\n",
       "      <td>1904</td>\n",
       "      <td>1</td>\n",
       "      <td>3</td>\n",
       "      <td>91</td>\n",
       "      <td>3.3</td>\n",
       "      <td>6</td>\n",
       "      <td>0.9</td>\n",
       "    </tr>\n",
       "    <tr>\n",
       "      <th>2</th>\n",
       "      <td>1908</td>\n",
       "      <td>2</td>\n",
       "      <td>4</td>\n",
       "      <td>110</td>\n",
       "      <td>3.6</td>\n",
       "      <td>37</td>\n",
       "      <td>1.8</td>\n",
       "    </tr>\n",
       "    <tr>\n",
       "      <th>3</th>\n",
       "      <td>1912</td>\n",
       "      <td>2</td>\n",
       "      <td>5</td>\n",
       "      <td>102</td>\n",
       "      <td>4.9</td>\n",
       "      <td>48</td>\n",
       "      <td>2.0</td>\n",
       "    </tr>\n",
       "    <tr>\n",
       "      <th>4</th>\n",
       "      <td>1920</td>\n",
       "      <td>2</td>\n",
       "      <td>8</td>\n",
       "      <td>154</td>\n",
       "      <td>5.2</td>\n",
       "      <td>63</td>\n",
       "      <td>2.4</td>\n",
       "    </tr>\n",
       "    <tr>\n",
       "      <th>5</th>\n",
       "      <td>1924</td>\n",
       "      <td>3</td>\n",
       "      <td>10</td>\n",
       "      <td>126</td>\n",
       "      <td>7.9</td>\n",
       "      <td>135</td>\n",
       "      <td>4.4</td>\n",
       "    </tr>\n",
       "    <tr>\n",
       "      <th>6</th>\n",
       "      <td>1928</td>\n",
       "      <td>4</td>\n",
       "      <td>14</td>\n",
       "      <td>109</td>\n",
       "      <td>12.8</td>\n",
       "      <td>277</td>\n",
       "      <td>9.6</td>\n",
       "    </tr>\n",
       "    <tr>\n",
       "      <th>7</th>\n",
       "      <td>1932</td>\n",
       "      <td>3</td>\n",
       "      <td>14</td>\n",
       "      <td>117</td>\n",
       "      <td>12.0</td>\n",
       "      <td>126</td>\n",
       "      <td>9.0</td>\n",
       "    </tr>\n",
       "    <tr>\n",
       "      <th>8</th>\n",
       "      <td>1936</td>\n",
       "      <td>4</td>\n",
       "      <td>15</td>\n",
       "      <td>129</td>\n",
       "      <td>11.6</td>\n",
       "      <td>331</td>\n",
       "      <td>8.3</td>\n",
       "    </tr>\n",
       "    <tr>\n",
       "      <th>9</th>\n",
       "      <td>1948</td>\n",
       "      <td>5</td>\n",
       "      <td>19</td>\n",
       "      <td>136</td>\n",
       "      <td>14.0</td>\n",
       "      <td>390</td>\n",
       "      <td>9.5</td>\n",
       "    </tr>\n",
       "    <tr>\n",
       "      <th>10</th>\n",
       "      <td>1952</td>\n",
       "      <td>6</td>\n",
       "      <td>25</td>\n",
       "      <td>149</td>\n",
       "      <td>16.8</td>\n",
       "      <td>519</td>\n",
       "      <td>10.5</td>\n",
       "    </tr>\n",
       "    <tr>\n",
       "      <th>11</th>\n",
       "      <td>1956</td>\n",
       "      <td>6</td>\n",
       "      <td>26</td>\n",
       "      <td>151</td>\n",
       "      <td>17.2</td>\n",
       "      <td>376</td>\n",
       "      <td>13.3</td>\n",
       "    </tr>\n",
       "    <tr>\n",
       "      <th>12</th>\n",
       "      <td>1960</td>\n",
       "      <td>6</td>\n",
       "      <td>29</td>\n",
       "      <td>150</td>\n",
       "      <td>19.3</td>\n",
       "      <td>611</td>\n",
       "      <td>11.4</td>\n",
       "    </tr>\n",
       "    <tr>\n",
       "      <th>13</th>\n",
       "      <td>1964</td>\n",
       "      <td>7</td>\n",
       "      <td>33</td>\n",
       "      <td>163</td>\n",
       "      <td>20.2</td>\n",
       "      <td>678</td>\n",
       "      <td>13.2</td>\n",
       "    </tr>\n",
       "    <tr>\n",
       "      <th>14</th>\n",
       "      <td>1968</td>\n",
       "      <td>7</td>\n",
       "      <td>39</td>\n",
       "      <td>172</td>\n",
       "      <td>22.7</td>\n",
       "      <td>781</td>\n",
       "      <td>14.2</td>\n",
       "    </tr>\n",
       "    <tr>\n",
       "      <th>15</th>\n",
       "      <td>1972</td>\n",
       "      <td>8</td>\n",
       "      <td>43</td>\n",
       "      <td>195</td>\n",
       "      <td>22.1</td>\n",
       "      <td>1059</td>\n",
       "      <td>14.6</td>\n",
       "    </tr>\n",
       "    <tr>\n",
       "      <th>16</th>\n",
       "      <td>1976</td>\n",
       "      <td>11</td>\n",
       "      <td>49</td>\n",
       "      <td>198</td>\n",
       "      <td>24.7</td>\n",
       "      <td>1260</td>\n",
       "      <td>20.7</td>\n",
       "    </tr>\n",
       "    <tr>\n",
       "      <th>17</th>\n",
       "      <td>1980</td>\n",
       "      <td>12</td>\n",
       "      <td>50</td>\n",
       "      <td>203</td>\n",
       "      <td>24.6</td>\n",
       "      <td>1115</td>\n",
       "      <td>21.5</td>\n",
       "    </tr>\n",
       "    <tr>\n",
       "      <th>18</th>\n",
       "      <td>1984</td>\n",
       "      <td>14</td>\n",
       "      <td>62</td>\n",
       "      <td>221</td>\n",
       "      <td>28.1</td>\n",
       "      <td>1566</td>\n",
       "      <td>23.0</td>\n",
       "    </tr>\n",
       "    <tr>\n",
       "      <th>19</th>\n",
       "      <td>1988</td>\n",
       "      <td>17</td>\n",
       "      <td>72</td>\n",
       "      <td>237</td>\n",
       "      <td>30.4</td>\n",
       "      <td>2194</td>\n",
       "      <td>26.1</td>\n",
       "    </tr>\n",
       "    <tr>\n",
       "      <th>20</th>\n",
       "      <td>1992</td>\n",
       "      <td>19</td>\n",
       "      <td>86</td>\n",
       "      <td>257</td>\n",
       "      <td>33.5</td>\n",
       "      <td>2707</td>\n",
       "      <td>28.8</td>\n",
       "    </tr>\n",
       "    <tr>\n",
       "      <th>21</th>\n",
       "      <td>1996</td>\n",
       "      <td>21</td>\n",
       "      <td>97</td>\n",
       "      <td>271</td>\n",
       "      <td>35.8</td>\n",
       "      <td>3512</td>\n",
       "      <td>34.0</td>\n",
       "    </tr>\n",
       "    <tr>\n",
       "      <th>22</th>\n",
       "      <td>2000</td>\n",
       "      <td>25</td>\n",
       "      <td>120</td>\n",
       "      <td>300</td>\n",
       "      <td>40.0</td>\n",
       "      <td>4069</td>\n",
       "      <td>38.2</td>\n",
       "    </tr>\n",
       "    <tr>\n",
       "      <th>23</th>\n",
       "      <td>2004</td>\n",
       "      <td>26</td>\n",
       "      <td>125</td>\n",
       "      <td>301</td>\n",
       "      <td>41.5</td>\n",
       "      <td>4329</td>\n",
       "      <td>40.7</td>\n",
       "    </tr>\n",
       "    <tr>\n",
       "      <th>24</th>\n",
       "      <td>2008</td>\n",
       "      <td>26</td>\n",
       "      <td>127</td>\n",
       "      <td>302</td>\n",
       "      <td>42.1</td>\n",
       "      <td>4637</td>\n",
       "      <td>42.4</td>\n",
       "    </tr>\n",
       "    <tr>\n",
       "      <th>25</th>\n",
       "      <td>2012</td>\n",
       "      <td>26</td>\n",
       "      <td>140</td>\n",
       "      <td>302</td>\n",
       "      <td>46.4</td>\n",
       "      <td>4676</td>\n",
       "      <td>44.2</td>\n",
       "    </tr>\n",
       "    <tr>\n",
       "      <th>26</th>\n",
       "      <td>2016</td>\n",
       "      <td>28</td>\n",
       "      <td>145</td>\n",
       "      <td>306</td>\n",
       "      <td>47.4</td>\n",
       "      <td>4700</td>\n",
       "      <td>45.0</td>\n",
       "    </tr>\n",
       "  </tbody>\n",
       "</table>\n",
       "</div>"
      ],
      "text/plain": [
       "    year  sports  womens_events  total_events  %_of_womens_events  \\\n",
       "0   1900       2              2            95                 2.1   \n",
       "1   1904       1              3            91                 3.3   \n",
       "2   1908       2              4           110                 3.6   \n",
       "3   1912       2              5           102                 4.9   \n",
       "4   1920       2              8           154                 5.2   \n",
       "5   1924       3             10           126                 7.9   \n",
       "6   1928       4             14           109                12.8   \n",
       "7   1932       3             14           117                12.0   \n",
       "8   1936       4             15           129                11.6   \n",
       "9   1948       5             19           136                14.0   \n",
       "10  1952       6             25           149                16.8   \n",
       "11  1956       6             26           151                17.2   \n",
       "12  1960       6             29           150                19.3   \n",
       "13  1964       7             33           163                20.2   \n",
       "14  1968       7             39           172                22.7   \n",
       "15  1972       8             43           195                22.1   \n",
       "16  1976      11             49           198                24.7   \n",
       "17  1980      12             50           203                24.6   \n",
       "18  1984      14             62           221                28.1   \n",
       "19  1988      17             72           237                30.4   \n",
       "20  1992      19             86           257                33.5   \n",
       "21  1996      21             97           271                35.8   \n",
       "22  2000      25            120           300                40.0   \n",
       "23  2004      26            125           301                41.5   \n",
       "24  2008      26            127           302                42.1   \n",
       "25  2012      26            140           302                46.4   \n",
       "26  2016      28            145           306                47.4   \n",
       "\n",
       "    women_participants  %_of_women_participants  \n",
       "0                   22                      2.2  \n",
       "1                    6                      0.9  \n",
       "2                   37                      1.8  \n",
       "3                   48                      2.0  \n",
       "4                   63                      2.4  \n",
       "5                  135                      4.4  \n",
       "6                  277                      9.6  \n",
       "7                  126                      9.0  \n",
       "8                  331                      8.3  \n",
       "9                  390                      9.5  \n",
       "10                 519                     10.5  \n",
       "11                 376                     13.3  \n",
       "12                 611                     11.4  \n",
       "13                 678                     13.2  \n",
       "14                 781                     14.2  \n",
       "15                1059                     14.6  \n",
       "16                1260                     20.7  \n",
       "17                1115                     21.5  \n",
       "18                1566                     23.0  \n",
       "19                2194                     26.1  \n",
       "20                2707                     28.8  \n",
       "21                3512                     34.0  \n",
       "22                4069                     38.2  \n",
       "23                4329                     40.7  \n",
       "24                4637                     42.4  \n",
       "25                4676                     44.2  \n",
       "26                4700                     45.0  "
      ]
     },
     "execution_count": 11,
     "metadata": {},
     "output_type": "execute_result"
    }
   ],
   "source": [
    "wp.head(27)"
   ]
  },
  {
   "cell_type": "markdown",
   "metadata": {},
   "source": [
    "Action: listing column names"
   ]
  },
  {
   "cell_type": "markdown",
   "metadata": {},
   "source": [
    "Result: Now that I've been able to see my data, I will list column names so that I will have the exact name to start filtering through and using to graph"
   ]
  },
  {
   "cell_type": "code",
   "execution_count": 12,
   "metadata": {},
   "outputs": [
    {
     "data": {
      "text/plain": [
       "['year',\n",
       " 'sports',\n",
       " 'womens_events',\n",
       " 'total_events',\n",
       " '%_of_womens_events',\n",
       " 'women_participants',\n",
       " '%_of_women_participants']"
      ]
     },
     "execution_count": 12,
     "metadata": {},
     "output_type": "execute_result"
    }
   ],
   "source": [
    "wp.columns.to_list() "
   ]
  },
  {
   "cell_type": "markdown",
   "metadata": {},
   "source": [
    "Action: Plot year and total events of the Olympics "
   ]
  },
  {
   "cell_type": "markdown",
   "metadata": {},
   "source": [
    "Result: I will be able to compare side by side the growth of total events of the years since the Olympics inception. As we can see from our graph below, we can see that the total number of events has risen greatly since the begining of the Olympics."
   ]
  },
  {
   "cell_type": "code",
   "execution_count": 13,
   "metadata": {},
   "outputs": [
    {
     "data": {
      "text/plain": [
       "Text(0.5, 1.0, 'Growth of Total Events in the Olympics')"
      ]
     },
     "execution_count": 13,
     "metadata": {},
     "output_type": "execute_result"
    },
    {
     "data": {
      "image/png": "[encoded data removed]",
      "text/plain": [
       "<Figure size 432x288 with 1 Axes>"
      ]
     },
     "metadata": {
      "needs_background": "light"
     },
     "output_type": "display_data"
    }
   ],
   "source": [
    "wp.plot(x=\"year\", y=\"total_events\")\n",
    "plt.title('Growth of Total Events in the Olympics')"
   ]
  },
  {
   "cell_type": "markdown",
   "metadata": {},
   "source": [
    "Action: Plotting the year on the axis and the total number of events with total number of womens participants on the Y axis\""
   ]
  },
  {
   "cell_type": "markdown",
   "metadata": {},
   "source": [
    "Result: I will be able to see the correlation in growth between the total number of womens participants and the total number of events. As we can see, both have grown since the begining of the olympics. Now I will continue on and try to see a correlation with the growth in number of participants and events to overall economic costs."
   ]
  },
  {
   "cell_type": "markdown",
   "metadata": {},
   "source": [
    "Action: Plotting the overal economic cost per event and per athlete of the Winter Olympic Games and the growth of female participants in the olympics\n"
   ]
  },
  {
   "cell_type": "code",
   "execution_count": 14,
   "metadata": {},
   "outputs": [
    {
     "data": {
      "text/plain": [
       "Text(0.5, 1.0, 'Cost per event and per athlete Winter Olympics')"
      ]
     },
     "execution_count": 14,
     "metadata": {},
     "output_type": "execute_result"
    },
    {
     "data": {
      "image/png": "[encoded data removed]",
      "text/plain": [
       "<Figure size 432x288 with 1 Axes>"
      ]
     },
     "metadata": {
      "needs_background": "light"
     },
     "output_type": "display_data"
    },
    {
     "data": {
      "image/png": "[encoded data removed]",
      "text/plain": [
       "<Figure size 432x288 with 1 Axes>"
      ]
     },
     "metadata": {
      "needs_background": "light"
     },
     "output_type": "display_data"
    }
   ],
   "source": [
    "wp.plot(x=\"year\", y=[\"women_participants\",\"total_events\"])\n",
    "plt.title('Growth of Women Participants in the Olympics')\n",
    "df.tail(11).plot(x=\"Year\", y=[\"Cost per event, mio. USD\",\"Cost per athlete, mio. USD\"])\n",
    "plt.title('Cost per event and per athlete Winter Olympics')"
   ]
  },
  {
   "cell_type": "markdown",
   "metadata": {},
   "source": [
    "Result: This graph shows us the large rise in cost per event and per event of the winter olympics regardless of gender. I think it is interesting to note that as the total number of events and womens athletes has risen in the games, so has the total cost of events and cost per athlete. This could mean that there exists a correlation with the number of total participants and events in the games to the overall costs of the Olympics. This could mean that in order to lower economic costs of the games, the Olympics committees should be critical in the number of sports they continue to introduce to the games. More analyzing of these trends should be conducted in order to better understand the relationship between rise in total number of events and total costs of the Olympics"
   ]
  },
  {
   "cell_type": "markdown",
   "metadata": {},
   "source": [
    "Action: I am installing pywaffle so that I can have a more influential way to visualize my following data."
   ]
  },
  {
   "cell_type": "code",
   "execution_count": 15,
   "metadata": {},
   "outputs": [
    {
     "name": "stdout",
     "output_type": "stream",
     "text": [
      "Requirement already satisfied: pywaffle in /opt/conda/lib/python3.8/site-packages (0.6.1)\n",
      "Requirement already satisfied: matplotlib in /opt/conda/lib/python3.8/site-packages (from pywaffle) (3.2.2)\n",
      "Requirement already satisfied: cycler>=0.10 in /opt/conda/lib/python3.8/site-packages (from matplotlib->pywaffle) (0.10.0)\n",
      "Requirement already satisfied: pyparsing!=2.0.4,!=2.1.2,!=2.1.6,>=2.0.1 in /opt/conda/lib/python3.8/site-packages (from matplotlib->pywaffle) (2.4.7)\n",
      "Requirement already satisfied: numpy>=1.11 in /opt/conda/lib/python3.8/site-packages (from matplotlib->pywaffle) (1.19.0)\n",
      "Requirement already satisfied: kiwisolver>=1.0.1 in /opt/conda/lib/python3.8/site-packages (from matplotlib->pywaffle) (1.2.0)\n",
      "Requirement already satisfied: python-dateutil>=2.1 in /opt/conda/lib/python3.8/site-packages (from matplotlib->pywaffle) (2.8.0)\n",
      "Requirement already satisfied: six in /opt/conda/lib/python3.8/site-packages (from cycler>=0.10->matplotlib->pywaffle) (1.15.0)\n",
      "Note: you may need to restart the kernel to use updated packages.\n"
     ]
    }
   ],
   "source": [
    "pip install pywaffle"
   ]
  },
  {
   "cell_type": "code",
   "execution_count": 16,
   "metadata": {},
   "outputs": [],
   "source": [
    "from pywaffle import Waffle"
   ]
  },
  {
   "cell_type": "markdown",
   "metadata": {},
   "source": [
    "Action: I will be graphing the percent of total womens sports int he olympics for 3 respective years."
   ]
  },
  {
   "cell_type": "markdown",
   "metadata": {},
   "source": [
    "Result: I think using pywaffle and this data will be influential in demonstrating to the reader the large difference in male to female total sports in the Olympics until recent years. As we can see below, only 2 percent of total sports in the Olypmics were for women in the 1900s. As we look farther, we see this number jumps to 20% and then almost to 50/50 in present day."
   ]
  },
  {
   "cell_type": "code",
   "execution_count": 17,
   "metadata": {},
   "outputs": [
    {
     "data": {
      "image/png": "[encoded data removed]",
      "text/plain": [
       "<Waffle size 432x288 with 1 Axes>"
      ]
     },
     "metadata": {
      "needs_background": "light"
     },
     "output_type": "display_data"
    },
    {
     "data": {
      "image/png": "[encoded data removed]",
      "text/plain": [
       "<Waffle size 432x288 with 1 Axes>"
      ]
     },
     "metadata": {
      "needs_background": "light"
     },
     "output_type": "display_data"
    },
    {
     "data": {
      "image/png": "[encoded data removed]",
      "text/plain": [
       "<Waffle size 432x288 with 1 Axes>"
      ]
     },
     "metadata": {
      "needs_background": "light"
     },
     "output_type": "display_data"
    }
   ],
   "source": [
    "fig = plt.figure(\n",
    "    FigureClass=Waffle, \n",
    "    rows=6,  \n",
    "    values=[2,100]\n",
    ")\n",
    "plt.title('Percent of Total Womens Sports in the Olympics in 1900',fontsize=10)\n",
    "plt.show()\n",
    "\n",
    "fig = plt.figure(\n",
    "    FigureClass=Waffle, \n",
    "    rows=5,  \n",
    "    values=[20, 80],\n",
    ")\n",
    "plt.title('Percent of Total Womens Sports in the Olympics in 1950',fontsize=10)\n",
    "plt.show()\n",
    "\n",
    "fig = plt.figure(\n",
    "    FigureClass=Waffle, \n",
    "    rows=5,  \n",
    "    values=[45, 55],\n",
    ")\n",
    "plt.title('Percent of Total Womens Sports in the Olympics in 1950',fontsize=10)\n",
    "plt.show()"
   ]
  },
  {
   "cell_type": "markdown",
   "metadata": {},
   "source": [
    "Because of country and Olympic commitee efforts, the ratio today of female and male sports is almost 50/50"
   ]
  },
  {
   "cell_type": "markdown",
   "metadata": {},
   "source": [
    "It is great to see that women are gaining more equal representation in sports. This graph helps us also understand that in an addition to because more athletes are competing (in this case more females), there could be a correlation between cost per Olympics/athlete and the total number of athletes. Further analysis may be done to see from which countries these female athletes are coming from, and from there we could also see the economic standing of those countries in order to find a correlation with athletes able to participate in the Olympics due to rising costs of the games."
   ]
  },
  {
   "cell_type": "markdown",
   "metadata": {},
   "source": [
    "Now I am going to be practicing my coding by visualizing a different dataset. One that will show us on a map the number of times the olympics have been held at different countries. "
   ]
  },
  {
   "cell_type": "markdown",
   "metadata": {},
   "source": [
    "Action: I will be using pycountry in order to creat a new column for the 3 letter alpha code for my countries"
   ]
  },
  {
   "cell_type": "markdown",
   "metadata": {},
   "source": [
    "This will allow me to later spatially visualize my data thanks to the 3 letter codes."
   ]
  },
  {
   "cell_type": "code",
   "execution_count": 18,
   "metadata": {},
   "outputs": [
    {
     "data": {
      "text/html": [
       "<div>\n",
       "<style scoped>\n",
       "    .dataframe tbody tr th:only-of-type {\n",
       "        vertical-align: middle;\n",
       "    }\n",
       "\n",
       "    .dataframe tbody tr th {\n",
       "        vertical-align: top;\n",
       "    }\n",
       "\n",
       "    .dataframe thead th {\n",
       "        text-align: right;\n",
       "    }\n",
       "</style>\n",
       "<table border=\"1\" class=\"dataframe\">\n",
       "  <thead>\n",
       "    <tr style=\"text-align: right;\">\n",
       "      <th></th>\n",
       "      <th>Games</th>\n",
       "      <th>Year</th>\n",
       "      <th>Country</th>\n",
       "      <th>Type</th>\n",
       "      <th>Cost per event, mio. USD</th>\n",
       "      <th>Cost per athlete, mio. USD</th>\n",
       "      <th>event,</th>\n",
       "      <th>CODE</th>\n",
       "    </tr>\n",
       "  </thead>\n",
       "  <tbody>\n",
       "    <tr>\n",
       "      <th>0</th>\n",
       "      <td>Tokyo</td>\n",
       "      <td>1964</td>\n",
       "      <td>Japan</td>\n",
       "      <td>Summer</td>\n",
       "      <td>1.7</td>\n",
       "      <td>0.10</td>\n",
       "      <td>NaN</td>\n",
       "      <td>JPN</td>\n",
       "    </tr>\n",
       "    <tr>\n",
       "      <th>1</th>\n",
       "      <td>Munich</td>\n",
       "      <td>1972</td>\n",
       "      <td>Germany</td>\n",
       "      <td>Summer</td>\n",
       "      <td>5.2</td>\n",
       "      <td>0.10</td>\n",
       "      <td>NaN</td>\n",
       "      <td>DEU</td>\n",
       "    </tr>\n",
       "    <tr>\n",
       "      <th>2</th>\n",
       "      <td>Montreal</td>\n",
       "      <td>1976</td>\n",
       "      <td>Canada</td>\n",
       "      <td>Summer</td>\n",
       "      <td>30.8</td>\n",
       "      <td>1.00</td>\n",
       "      <td>NaN</td>\n",
       "      <td>CAN</td>\n",
       "    </tr>\n",
       "    <tr>\n",
       "      <th>3</th>\n",
       "      <td>Moscow</td>\n",
       "      <td>1980</td>\n",
       "      <td>Soviet Union</td>\n",
       "      <td>Summer</td>\n",
       "      <td>31.2</td>\n",
       "      <td>1.20</td>\n",
       "      <td>NaN</td>\n",
       "      <td>None</td>\n",
       "    </tr>\n",
       "    <tr>\n",
       "      <th>4</th>\n",
       "      <td>Los Angeles</td>\n",
       "      <td>1984</td>\n",
       "      <td>United States</td>\n",
       "      <td>Summer</td>\n",
       "      <td>3.3</td>\n",
       "      <td>0.10</td>\n",
       "      <td>NaN</td>\n",
       "      <td>USA</td>\n",
       "    </tr>\n",
       "    <tr>\n",
       "      <th>5</th>\n",
       "      <td>Barcelona</td>\n",
       "      <td>1992</td>\n",
       "      <td>Spain</td>\n",
       "      <td>Summer</td>\n",
       "      <td>37.7</td>\n",
       "      <td>1.00</td>\n",
       "      <td>NaN</td>\n",
       "      <td>ESP</td>\n",
       "    </tr>\n",
       "    <tr>\n",
       "      <th>6</th>\n",
       "      <td>Atlanta</td>\n",
       "      <td>1996</td>\n",
       "      <td>United States</td>\n",
       "      <td>Summer</td>\n",
       "      <td>15.3</td>\n",
       "      <td>0.40</td>\n",
       "      <td>NaN</td>\n",
       "      <td>USA</td>\n",
       "    </tr>\n",
       "    <tr>\n",
       "      <th>7</th>\n",
       "      <td>Sydney</td>\n",
       "      <td>2000</td>\n",
       "      <td>Australia</td>\n",
       "      <td>Summer</td>\n",
       "      <td>16.8</td>\n",
       "      <td>0.50</td>\n",
       "      <td>NaN</td>\n",
       "      <td>AUS</td>\n",
       "    </tr>\n",
       "    <tr>\n",
       "      <th>8</th>\n",
       "      <td>Athens</td>\n",
       "      <td>2004</td>\n",
       "      <td>Greece</td>\n",
       "      <td>Summer</td>\n",
       "      <td>9.8</td>\n",
       "      <td>0.30</td>\n",
       "      <td>NaN</td>\n",
       "      <td>GRC</td>\n",
       "    </tr>\n",
       "    <tr>\n",
       "      <th>9</th>\n",
       "      <td>Beijing</td>\n",
       "      <td>2008</td>\n",
       "      <td>China</td>\n",
       "      <td>Summer</td>\n",
       "      <td>22.5</td>\n",
       "      <td>0.60</td>\n",
       "      <td>NaN</td>\n",
       "      <td>CHN</td>\n",
       "    </tr>\n",
       "    <tr>\n",
       "      <th>10</th>\n",
       "      <td>London</td>\n",
       "      <td>2012</td>\n",
       "      <td>United Kingdom</td>\n",
       "      <td>Summer</td>\n",
       "      <td>49.5</td>\n",
       "      <td>1.40</td>\n",
       "      <td>NaN</td>\n",
       "      <td>GBR</td>\n",
       "    </tr>\n",
       "    <tr>\n",
       "      <th>11</th>\n",
       "      <td>Rio</td>\n",
       "      <td>2016</td>\n",
       "      <td>Brazil</td>\n",
       "      <td>Summer</td>\n",
       "      <td>14.9</td>\n",
       "      <td>0.40</td>\n",
       "      <td>NaN</td>\n",
       "      <td>BRA</td>\n",
       "    </tr>\n",
       "    <tr>\n",
       "      <th>12</th>\n",
       "      <td>Innsbruck</td>\n",
       "      <td>1964</td>\n",
       "      <td>Austria</td>\n",
       "      <td>Winter</td>\n",
       "      <td>0.6</td>\n",
       "      <td>0.02</td>\n",
       "      <td>NaN</td>\n",
       "      <td>AUT</td>\n",
       "    </tr>\n",
       "    <tr>\n",
       "      <th>13</th>\n",
       "      <td>Grenoble</td>\n",
       "      <td>1968</td>\n",
       "      <td>France</td>\n",
       "      <td>Winter</td>\n",
       "      <td>25.4</td>\n",
       "      <td>0.80</td>\n",
       "      <td>NaN</td>\n",
       "      <td>FRA</td>\n",
       "    </tr>\n",
       "    <tr>\n",
       "      <th>14</th>\n",
       "      <td>Sapporo</td>\n",
       "      <td>1972</td>\n",
       "      <td>Japan</td>\n",
       "      <td>Winter</td>\n",
       "      <td>3.4</td>\n",
       "      <td>0.10</td>\n",
       "      <td>NaN</td>\n",
       "      <td>JPN</td>\n",
       "    </tr>\n",
       "    <tr>\n",
       "      <th>15</th>\n",
       "      <td>Innsbruck</td>\n",
       "      <td>1976</td>\n",
       "      <td>Austria</td>\n",
       "      <td>Winter</td>\n",
       "      <td>3.2</td>\n",
       "      <td>0.10</td>\n",
       "      <td>NaN</td>\n",
       "      <td>AUT</td>\n",
       "    </tr>\n",
       "    <tr>\n",
       "      <th>16</th>\n",
       "      <td>Lake Placid</td>\n",
       "      <td>1980</td>\n",
       "      <td>United States</td>\n",
       "      <td>Winter</td>\n",
       "      <td>11.5</td>\n",
       "      <td>0.40</td>\n",
       "      <td>NaN</td>\n",
       "      <td>USA</td>\n",
       "    </tr>\n",
       "    <tr>\n",
       "      <th>17</th>\n",
       "      <td>Calgary</td>\n",
       "      <td>1988</td>\n",
       "      <td>Canada</td>\n",
       "      <td>Winter</td>\n",
       "      <td>24.1</td>\n",
       "      <td>0.80</td>\n",
       "      <td>NaN</td>\n",
       "      <td>CAN</td>\n",
       "    </tr>\n",
       "    <tr>\n",
       "      <th>18</th>\n",
       "      <td>Albertville</td>\n",
       "      <td>1992</td>\n",
       "      <td>France</td>\n",
       "      <td>Winter</td>\n",
       "      <td>35.0</td>\n",
       "      <td>1.10</td>\n",
       "      <td>NaN</td>\n",
       "      <td>FRA</td>\n",
       "    </tr>\n",
       "    <tr>\n",
       "      <th>19</th>\n",
       "      <td>Lillehammer</td>\n",
       "      <td>1994</td>\n",
       "      <td>Norway</td>\n",
       "      <td>Winter</td>\n",
       "      <td>36.5</td>\n",
       "      <td>1.30</td>\n",
       "      <td>NaN</td>\n",
       "      <td>NOR</td>\n",
       "    </tr>\n",
       "    <tr>\n",
       "      <th>20</th>\n",
       "      <td>Nagano</td>\n",
       "      <td>1998</td>\n",
       "      <td>Japan</td>\n",
       "      <td>Winter</td>\n",
       "      <td>32.7</td>\n",
       "      <td>1.00</td>\n",
       "      <td>NaN</td>\n",
       "      <td>JPN</td>\n",
       "    </tr>\n",
       "    <tr>\n",
       "      <th>21</th>\n",
       "      <td>Salt Lake City</td>\n",
       "      <td>2002</td>\n",
       "      <td>United States</td>\n",
       "      <td>Winter</td>\n",
       "      <td>32.3</td>\n",
       "      <td>1.10</td>\n",
       "      <td>NaN</td>\n",
       "      <td>USA</td>\n",
       "    </tr>\n",
       "    <tr>\n",
       "      <th>22</th>\n",
       "      <td>Torino</td>\n",
       "      <td>2006</td>\n",
       "      <td>Italy</td>\n",
       "      <td>Winter</td>\n",
       "      <td>52.0</td>\n",
       "      <td>1.70</td>\n",
       "      <td>NaN</td>\n",
       "      <td>ITA</td>\n",
       "    </tr>\n",
       "  </tbody>\n",
       "</table>\n",
       "</div>"
      ],
      "text/plain": [
       "             Games  Year         Country    Type  Cost per event, mio. USD  \\\n",
       "0            Tokyo  1964           Japan  Summer                       1.7   \n",
       "1           Munich  1972         Germany  Summer                       5.2   \n",
       "2         Montreal  1976          Canada  Summer                      30.8   \n",
       "3           Moscow  1980    Soviet Union  Summer                      31.2   \n",
       "4      Los Angeles  1984   United States  Summer                       3.3   \n",
       "5        Barcelona  1992           Spain  Summer                      37.7   \n",
       "6          Atlanta  1996   United States  Summer                      15.3   \n",
       "7           Sydney  2000       Australia  Summer                      16.8   \n",
       "8           Athens  2004          Greece  Summer                       9.8   \n",
       "9          Beijing  2008           China  Summer                      22.5   \n",
       "10          London  2012  United Kingdom  Summer                      49.5   \n",
       "11             Rio  2016          Brazil  Summer                      14.9   \n",
       "12       Innsbruck  1964         Austria  Winter                       0.6   \n",
       "13        Grenoble  1968          France  Winter                      25.4   \n",
       "14         Sapporo  1972           Japan  Winter                       3.4   \n",
       "15       Innsbruck  1976         Austria  Winter                       3.2   \n",
       "16     Lake Placid  1980   United States  Winter                      11.5   \n",
       "17         Calgary  1988          Canada  Winter                      24.1   \n",
       "18     Albertville  1992          France  Winter                      35.0   \n",
       "19     Lillehammer  1994          Norway  Winter                      36.5   \n",
       "20          Nagano  1998           Japan  Winter                      32.7   \n",
       "21  Salt Lake City  2002   United States  Winter                      32.3   \n",
       "22          Torino  2006           Italy  Winter                      52.0   \n",
       "\n",
       "    Cost per athlete, mio. USD  event,  CODE  \n",
       "0                         0.10     NaN   JPN  \n",
       "1                         0.10     NaN   DEU  \n",
       "2                         1.00     NaN   CAN  \n",
       "3                         1.20     NaN  None  \n",
       "4                         0.10     NaN   USA  \n",
       "5                         1.00     NaN   ESP  \n",
       "6                         0.40     NaN   USA  \n",
       "7                         0.50     NaN   AUS  \n",
       "8                         0.30     NaN   GRC  \n",
       "9                         0.60     NaN   CHN  \n",
       "10                        1.40     NaN   GBR  \n",
       "11                        0.40     NaN   BRA  \n",
       "12                        0.02     NaN   AUT  \n",
       "13                        0.80     NaN   FRA  \n",
       "14                        0.10     NaN   JPN  \n",
       "15                        0.10     NaN   AUT  \n",
       "16                        0.40     NaN   USA  \n",
       "17                        0.80     NaN   CAN  \n",
       "18                        1.10     NaN   FRA  \n",
       "19                        1.30     NaN   NOR  \n",
       "20                        1.00     NaN   JPN  \n",
       "21                        1.10     NaN   USA  \n",
       "22                        1.70     NaN   ITA  "
      ]
     },
     "execution_count": 18,
     "metadata": {},
     "output_type": "execute_result"
    }
   ],
   "source": [
    "def alpha3code(column):\n",
    "    CODE=[]\n",
    "    for country in column:\n",
    "        try:\n",
    "            code=pycountry.countries.get(name=country).alpha_3\n",
    "            CODE.append(code)\n",
    "        except:\n",
    "            CODE.append('None')\n",
    "    return CODE\n",
    "df['CODE']=alpha3code(df.Country)\n",
    "df.head(23)\n",
    "\n"
   ]
  },
  {
   "cell_type": "markdown",
   "metadata": {},
   "source": [
    "As we can see, the new column is made with the valuable 3 letter codes. Now we will be using the dataset path \"Naturalearth_Lowres\" In order to get a global map for our data to be on."
   ]
  },
  {
   "cell_type": "code",
   "execution_count": 19,
   "metadata": {},
   "outputs": [],
   "source": [
    "world = gpd.read_file(gpd.datasets.get_path('naturalearth_lowres'))\n",
    "world.columns=['Games', 'Year', 'name', 'CODE', 'gdp_md_est', 'geometry']"
   ]
  },
  {
   "cell_type": "markdown",
   "metadata": {},
   "source": [
    "Here, we are reading a alternative github file that has the longitude and latitudes of the countries based ont heir country codes. This will allow me to spatially visualize my data."
   ]
  },
  {
   "cell_type": "code",
   "execution_count": 20,
   "metadata": {},
   "outputs": [],
   "source": [
    " merge=pd.merge(world,df,on='CODE')\n",
    "location=pd.read_csv('https://raw.githubusercontent.com/melanieshi0120/COVID-19_global_time_series_panel_data/master/data/countries_latitude_longitude.csv')\n",
    "merge=merge.merge(location,on='name').sort_values(by='Country', ascending=False).reset_index()"
   ]
  },
  {
   "cell_type": "code",
   "execution_count": 21,
   "metadata": {
    "scrolled": true
   },
   "outputs": [
    {
     "data": {
      "image/png": "[encoded data removed]",
      "text/plain": [
       "<Figure size 1800x1440 with 1 Axes>"
      ]
     },
     "metadata": {
      "needs_background": "light"
     },
     "output_type": "display_data"
    }
   ],
   "source": [
    "\n",
    "merge.plot(column='Country', scheme=\"quantiles\",\n",
    "           figsize=(25, 20),\n",
    "           legend=True,cmap='Reds')\n",
    "plt.title('Countries that have hosted the Olympics',fontsize=30)\n",
    "\n",
    "for i in range(1,20):\n",
    "    plt.text(float(merge.longitude[i]),float(merge.latitude[i]),\"{}\\n\".format(merge.name[i]),size=14)\n",
    "plt.show()\n"
   ]
  },
  {
   "cell_type": "markdown",
   "metadata": {},
   "source": [
    "Here we have a graph that shows based on shadedness the total times countries have hosted the Olympics. As we can see, the darkest country, the U.S. has held the Olympics the most with other countries such as Japan and the U.K also having held the Olympics multiple times in their countries. This map is interesting to us because it allows us to understand what countries are hosting the Olympics, and later we can do research to see if these countries have special qualifiers, such as high GDP or high population ect."
   ]
  },
  {
   "cell_type": "markdown",
   "metadata": {},
   "source": [
    "Overall, this weeks project was beneficial in allowing me to review my coding through exploring new but relevent datasets. I think our findings with the rise in womens participation in the Olympcics and the similer rise in total cost of athletes and events to be compelling. We will follow these leads in order to better understand maybe the effect of increased Olympic events has on total Olympic costs."
   ]
  }
 ],
 "metadata": {
  "kernelspec": {
   "display_name": "Python 3",
   "language": "python",
   "name": "python3"
  },
  "language_info": {
   "codemirror_mode": {
    "name": "ipython",
    "version": 3
   },
   "file_extension": ".py",
   "mimetype": "text/x-python",
   "name": "python",
   "nbconvert_exporter": "python",
   "pygments_lexer": "ipython3",
   "version": "3.8.5"
  },
  "toc": {
   "base_numbering": 1,
   "nav_menu": {},
   "number_sections": true,
   "sideBar": true,
   "skip_h1_title": false,
   "title_cell": "Table of Contents",
   "title_sidebar": "Contents",
   "toc_cell": false,
   "toc_position": {},
   "toc_section_display": true,
   "toc_window_display": false
  }
 },
 "nbformat": 4,
 "nbformat_minor": 4
}
